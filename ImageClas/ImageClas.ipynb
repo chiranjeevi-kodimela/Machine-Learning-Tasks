{
  "nbformat": 4,
  "nbformat_minor": 0,
  "metadata": {
    "colab": {
      "provenance": []
    },
    "kernelspec": {
      "name": "python3",
      "display_name": "Python 3"
    },
    "language_info": {
      "name": "python"
    }
  },
  "cells": [
    {
      "cell_type": "markdown",
      "source": [
        "---\n",
        "\n",
        "### 📌 **Dataset Description**\n",
        "\n",
        "* `images`: Colored images of shape `(64, 64, 3)` generated synthetically\n",
        "* `labels`: Binary target labels:\n",
        "\n",
        "  * `0` → Red Image\n",
        "  * `1` → Blue Image\n",
        "\n",
        "Total entries: **30**\n",
        "\n",
        "* 15 Red images\n",
        "* 15 Blue images\n",
        "\n",
        "Images are created programmatically with solid red or blue channels.\n",
        "\n",
        "---\n",
        "\n",
        "### ✅ **Model**\n",
        "\n",
        "* Task: **Binary Image Classification** using a **Convolutional Neural Network (CNN)**\n",
        "\n",
        "* Preprocessing:\n",
        "\n",
        "  * Pixel normalization (`/ 255.0`)\n",
        "  * Train-test split (70% training, 30% testing)\n",
        "  * Images shaped as `(64, 64, 3)`\n",
        "\n",
        "* Model Architecture:\n",
        "\n",
        "  * `Conv2D(16, (3, 3), activation='relu')`\n",
        "  * `MaxPooling2D()`\n",
        "  * `Conv2D(32, (3, 3), activation='relu')`\n",
        "  * `MaxPooling2D()`\n",
        "  * `Flatten()`\n",
        "  * `Dense(64, activation='relu')`\n",
        "  * `Dense(1, activation='sigmoid')`  ← Binary output\n",
        "\n",
        "* Loss Function: `binary_crossentropy`\n",
        "\n",
        "* Optimizer: `adam`\n",
        "\n",
        "* Activation: `ReLU` for conv layers, `sigmoid` for output\n",
        "\n",
        "---\n",
        "\n",
        "### 📊 **Evaluation**\n",
        "\n",
        "* Metrics:\n",
        "\n",
        "  * `accuracy` on validation data\n",
        "  * `confusion_matrix` (visualized using `seaborn.heatmap`)\n",
        "  * `classification_report` with precision, recall, and F1-score\n",
        "\n",
        "* Visualizations:\n",
        "\n",
        "  * ✅ Accuracy curve across epochs using `matplotlib`\n",
        "  * ✅ Confusion Matrix using `seaborn`\n",
        "  * ✅ One sample prediction with output label\n",
        "\n",
        "---\n",
        "\n",
        "### 💡 **Libraries Used**\n",
        "\n",
        "```python\n",
        "tensorflow\n",
        "numpy\n",
        "matplotlib\n",
        "sklearn (train_test_split, metrics)\n",
        "seaborn (for confusion matrix heatmap)\n",
        "```"
      ],
      "metadata": {
        "id": "kwg8NY2cBA8T"
      }
    },
    {
      "cell_type": "code",
      "execution_count": 23,
      "metadata": {
        "id": "UBGL4otEZooz"
      },
      "outputs": [],
      "source": [
        "import warnings\n",
        "warnings.filterwarnings('ignore')\n",
        "#import libraries\n",
        "!pip install -q tensorflow matplotlib\n",
        "import numpy as np\n",
        "import tensorflow as tf\n",
        "from tensorflow.keras.models import Sequential\n",
        "from tensorflow.keras.layers import Conv2D, MaxPooling2D, Flatten, Dense\n",
        "import matplotlib.pyplot as plt\n",
        "import random\n",
        "from sklearn.metrics import confusion_matrix, classification_report\n",
        "import seaborn as sns\n"
      ]
    },
    {
      "cell_type": "code",
      "source": [
        "# Create 30 random color images (15 red class, 15 blue class)\n",
        "def generate_image(color):\n",
        "    img = np.zeros((64, 64, 3), dtype=np.uint8)\n",
        "    if color == \"red\":\n",
        "        img[:, :, 0] = np.random.randint(150, 256)  # Red channel\n",
        "    elif color == \"blue\":\n",
        "        img[:, :, 2] = np.random.randint(150, 256)  # Blue channel\n",
        "    return img\n",
        "\n",
        "# Dataset creation\n",
        "images = []\n",
        "labels = []\n",
        "\n",
        "for _ in range(15):\n",
        "    images.append(generate_image(\"red\"))\n",
        "    labels.append(0)  # Class 0: Red\n",
        "\n",
        "for _ in range(15):\n",
        "    images.append(generate_image(\"blue\"))\n",
        "    labels.append(1)  # Class 1: Blue\n",
        "\n",
        "# Convert to numpy arrays\n",
        "images = np.array(images) / 255.0  # Normalize\n",
        "labels = np.array(labels)\n"
      ],
      "metadata": {
        "id": "Ll275mty-elb"
      },
      "execution_count": 24,
      "outputs": []
    },
    {
      "cell_type": "code",
      "source": [
        "# step 3: Train-Test Split\n",
        "from sklearn.model_selection import train_test_split\n",
        "X_train, X_test, y_train, y_test = train_test_split(images, labels, test_size=0.3, random_state=42)"
      ],
      "metadata": {
        "id": "ZSG__eKB-jUv"
      },
      "execution_count": 25,
      "outputs": []
    },
    {
      "cell_type": "code",
      "source": [
        "# step 4: Define CNN Model\n",
        "model = Sequential([\n",
        "    Conv2D(16, (3, 3), activation='relu', input_shape=(64, 64, 3)),\n",
        "    MaxPooling2D(),\n",
        "    Conv2D(32, (3, 3), activation='relu'),\n",
        "    MaxPooling2D(),\n",
        "    Flatten(),\n",
        "    Dense(64, activation='relu'),\n",
        "    Dense(1, activation='sigmoid')  # Binary classification\n",
        "])"
      ],
      "metadata": {
        "id": "2cpfXxkt-lej"
      },
      "execution_count": 26,
      "outputs": []
    },
    {
      "cell_type": "code",
      "source": [
        "# step 5: Compile and Train the Model\n",
        "model.compile(optimizer='adam', loss='binary_crossentropy', metrics=['accuracy'])\n",
        "history = model.fit(X_train, y_train, epochs=10, validation_data=(X_test, y_test))"
      ],
      "metadata": {
        "colab": {
          "base_uri": "https://localhost:8080/"
        },
        "id": "o2B5B0h_-n0L",
        "outputId": "e7ad71e7-1065-422e-fda8-6bebbe2c9a87"
      },
      "execution_count": 27,
      "outputs": [
        {
          "output_type": "stream",
          "name": "stdout",
          "text": [
            "Epoch 1/10\n",
            "\u001b[1m1/1\u001b[0m \u001b[32m━━━━━━━━━━━━━━━━━━━━\u001b[0m\u001b[37m\u001b[0m \u001b[1m5s\u001b[0m 5s/step - accuracy: 0.0000e+00 - loss: 0.7951 - val_accuracy: 1.0000 - val_loss: 0.4101\n",
            "Epoch 2/10\n",
            "\u001b[1m1/1\u001b[0m \u001b[32m━━━━━━━━━━━━━━━━━━━━\u001b[0m\u001b[37m\u001b[0m \u001b[1m0s\u001b[0m 237ms/step - accuracy: 1.0000 - loss: 0.3900 - val_accuracy: 1.0000 - val_loss: 0.2555\n",
            "Epoch 3/10\n",
            "\u001b[1m1/1\u001b[0m \u001b[32m━━━━━━━━━━━━━━━━━━━━\u001b[0m\u001b[37m\u001b[0m \u001b[1m0s\u001b[0m 239ms/step - accuracy: 1.0000 - loss: 0.2200 - val_accuracy: 1.0000 - val_loss: 0.1448\n",
            "Epoch 4/10\n",
            "\u001b[1m1/1\u001b[0m \u001b[32m━━━━━━━━━━━━━━━━━━━━\u001b[0m\u001b[37m\u001b[0m \u001b[1m0s\u001b[0m 304ms/step - accuracy: 1.0000 - loss: 0.1179 - val_accuracy: 1.0000 - val_loss: 0.0738\n",
            "Epoch 5/10\n",
            "\u001b[1m1/1\u001b[0m \u001b[32m━━━━━━━━━━━━━━━━━━━━\u001b[0m\u001b[37m\u001b[0m \u001b[1m0s\u001b[0m 238ms/step - accuracy: 1.0000 - loss: 0.0579 - val_accuracy: 1.0000 - val_loss: 0.0337\n",
            "Epoch 6/10\n",
            "\u001b[1m1/1\u001b[0m \u001b[32m━━━━━━━━━━━━━━━━━━━━\u001b[0m\u001b[37m\u001b[0m \u001b[1m0s\u001b[0m 300ms/step - accuracy: 1.0000 - loss: 0.0262 - val_accuracy: 1.0000 - val_loss: 0.0142\n",
            "Epoch 7/10\n",
            "\u001b[1m1/1\u001b[0m \u001b[32m━━━━━━━━━━━━━━━━━━━━\u001b[0m\u001b[37m\u001b[0m \u001b[1m0s\u001b[0m 185ms/step - accuracy: 1.0000 - loss: 0.0111 - val_accuracy: 1.0000 - val_loss: 0.0058\n",
            "Epoch 8/10\n",
            "\u001b[1m1/1\u001b[0m \u001b[32m━━━━━━━━━━━━━━━━━━━━\u001b[0m\u001b[37m\u001b[0m \u001b[1m0s\u001b[0m 258ms/step - accuracy: 1.0000 - loss: 0.0046 - val_accuracy: 1.0000 - val_loss: 0.0024\n",
            "Epoch 9/10\n",
            "\u001b[1m1/1\u001b[0m \u001b[32m━━━━━━━━━━━━━━━━━━━━\u001b[0m\u001b[37m\u001b[0m \u001b[1m0s\u001b[0m 134ms/step - accuracy: 1.0000 - loss: 0.0019 - val_accuracy: 1.0000 - val_loss: 9.7046e-04\n",
            "Epoch 10/10\n",
            "\u001b[1m1/1\u001b[0m \u001b[32m━━━━━━━━━━━━━━━━━━━━\u001b[0m\u001b[37m\u001b[0m \u001b[1m0s\u001b[0m 135ms/step - accuracy: 1.0000 - loss: 8.1734e-04 - val_accuracy: 1.0000 - val_loss: 4.1001e-04\n"
          ]
        }
      ]
    },
    {
      "cell_type": "code",
      "source": [
        "# step 6: Visualize Accuracy & Loss\n",
        "plt.plot(history.history['accuracy'], label='Train Accuracy')\n",
        "plt.plot(history.history['val_accuracy'], label='Val Accuracy')\n",
        "plt.title('Training vs Validation Accuracy')\n",
        "plt.xlabel('Epoch')\n",
        "plt.ylabel('Accuracy')\n",
        "plt.legend()\n",
        "plt.grid(True)\n",
        "plt.show()"
      ],
      "metadata": {
        "colab": {
          "base_uri": "https://localhost:8080/",
          "height": 472
        },
        "id": "Hup5GWVi-q2W",
        "outputId": "6bb1be9d-ff65-4465-9be4-eb780ebd5d39"
      },
      "execution_count": 28,
      "outputs": [
        {
          "output_type": "display_data",
          "data": {
            "text/plain": [
              "<Figure size 640x480 with 1 Axes>"
            ],
            "image/png": "[encoded data removed]"
          },
          "metadata": {}
        }
      ]
    },
    {
      "cell_type": "code",
      "source": [
        "# step 7: Evaluate the Model\n",
        "loss, acc = model.evaluate(X_test, y_test)\n",
        "print(f\"Test Accuracy: {acc*100:.2f}%\")\n"
      ],
      "metadata": {
        "colab": {
          "base_uri": "https://localhost:8080/"
        },
        "id": "5oHJT6sw-syy",
        "outputId": "926f91e1-b1ea-4e95-dbc2-1905a0b7eb65"
      },
      "execution_count": 29,
      "outputs": [
        {
          "output_type": "stream",
          "name": "stdout",
          "text": [
            "\u001b[1m1/1\u001b[0m \u001b[32m━━━━━━━━━━━━━━━━━━━━\u001b[0m\u001b[37m\u001b[0m \u001b[1m0s\u001b[0m 49ms/step - accuracy: 1.0000 - loss: 4.1001e-04\n",
            "Test Accuracy: 100.00%\n"
          ]
        }
      ]
    },
    {
      "cell_type": "code",
      "source": [
        "# step 8: Confusion Matrix & Classification Report\n",
        "# Get model predictions (probabilities)\n",
        "y_pred_prob = model.predict(X_test)\n",
        "\n",
        "# Convert probabilities to class labels (0 or 1)\n",
        "y_pred = (y_pred_prob > 0.5).astype(int).flatten()\n",
        "\n",
        "# Confusion Matrix\n",
        "cm = confusion_matrix(y_test, y_pred)\n",
        "\n",
        "# Plot Confusion Matrix\n",
        "plt.figure(figsize=(5,4))\n",
        "sns.heatmap(cm, annot=True, fmt='d', cmap='Blues',\n",
        "            xticklabels=['Red', 'Blue'],\n",
        "            yticklabels=['Red', 'Blue'])\n",
        "plt.xlabel('Predicted')\n",
        "plt.ylabel('Actual')\n",
        "plt.title('Confusion Matrix')\n",
        "plt.show()\n",
        "\n",
        "# Classification Report\n",
        "print(\"Classification Report:\\n\")\n",
        "print(classification_report(y_test, y_pred, target_names=['Red', 'Blue']))\n"
      ],
      "metadata": {
        "colab": {
          "base_uri": "https://localhost:8080/",
          "height": 618
        },
        "id": "ODbbUUBHAEHE",
        "outputId": "acbf2eb8-fc61-43a0-f6f8-25e8559683ad"
      },
      "execution_count": 30,
      "outputs": [
        {
          "output_type": "stream",
          "name": "stdout",
          "text": [
            "\u001b[1m1/1\u001b[0m \u001b[32m━━━━━━━━━━━━━━━━━━━━\u001b[0m\u001b[37m\u001b[0m \u001b[1m0s\u001b[0m 97ms/step\n"
          ]
        },
        {
          "output_type": "display_data",
          "data": {
            "text/plain": [
              "<Figure size 500x400 with 2 Axes>"
            ],
            "image/png": "[encoded data removed]"
          },
          "metadata": {}
        },
        {
          "output_type": "stream",
          "name": "stdout",
          "text": [
            "Classification Report:\n",
            "\n",
            "              precision    recall  f1-score   support\n",
            "\n",
            "         Red       1.00      1.00      1.00         3\n",
            "        Blue       1.00      1.00      1.00         6\n",
            "\n",
            "    accuracy                           1.00         9\n",
            "   macro avg       1.00      1.00      1.00         9\n",
            "weighted avg       1.00      1.00      1.00         9\n",
            "\n"
          ]
        }
      ]
    },
    {
      "cell_type": "code",
      "source": [
        "# step 9: Predict on New Image\n",
        "sample_img = X_test[0]\n",
        "plt.imshow(sample_img)\n",
        "plt.axis('off')\n",
        "plt.title('Sample Test Image')\n",
        "plt.show()\n",
        "prediction = model.predict(np.expand_dims(sample_img, axis=0))[0][0]\n",
        "print(\"Predicted Class:\", \"Blue\" if prediction > 0.5 else \"Red\")"
      ],
      "metadata": {
        "colab": {
          "base_uri": "https://localhost:8080/",
          "height": 463
        },
        "id": "E8Ci-Ps5-uQt",
        "outputId": "598b0527-e7ad-49bd-82b2-c16327570c49"
      },
      "execution_count": 31,
      "outputs": [
        {
          "output_type": "display_data",
          "data": {
            "text/plain": [
              "<Figure size 640x480 with 1 Axes>"
            ],
            "image/png": "[encoded data removed]"
          },
          "metadata": {}
        },
        {
          "output_type": "stream",
          "name": "stdout",
          "text": [
            "\u001b[1m1/1\u001b[0m \u001b[32m━━━━━━━━━━━━━━━━━━━━\u001b[0m\u001b[37m\u001b[0m \u001b[1m0s\u001b[0m 88ms/step\n",
            "Predicted Class: Blue\n"
          ]
        }
      ]
    }
  ]
}