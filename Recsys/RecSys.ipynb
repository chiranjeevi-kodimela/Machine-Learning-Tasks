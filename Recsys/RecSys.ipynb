{
  "nbformat": 4,
  "nbformat_minor": 0,
  "metadata": {
    "colab": {
      "provenance": []
    },
    "kernelspec": {
      "name": "python3",
      "display_name": "Python 3"
    },
    "language_info": {
      "name": "python"
    }
  },
  "cells": [
    {
      "cell_type": "markdown",
      "source": [
        "# 🎬 Movie Recommendation System\n",
        "### ✅ Objective:\n",
        "Build a Recommendation System using Matrix Factorization (SVD) to predict user ratings and recommend movies.\n"
      ],
      "metadata": {
        "id": "c1wuASWzEPZ0"
      }
    },
    {
      "cell_type": "code",
      "source": [
        "# step 1: Install Surprise\n",
        "!pip install scikit-surprise\n"
      ],
      "metadata": {
        "colab": {
          "base_uri": "https://localhost:8080/"
        },
        "id": "27xW2SLFDNtd",
        "outputId": "a6a47d2a-6fce-49c7-9a23-b1b5336a496a"
      },
      "execution_count": 2,
      "outputs": [
        {
          "output_type": "stream",
          "name": "stdout",
          "text": [
            "Requirement already satisfied: scikit-surprise in /usr/local/lib/python3.11/dist-packages (1.1.4)\n",
            "Requirement already satisfied: joblib>=1.2.0 in /usr/local/lib/python3.11/dist-packages (from scikit-surprise) (1.5.1)\n",
            "Requirement already satisfied: numpy>=1.19.5 in /usr/local/lib/python3.11/dist-packages (from scikit-surprise) (1.24.4)\n",
            "Requirement already satisfied: scipy>=1.6.0 in /usr/local/lib/python3.11/dist-packages (from scikit-surprise) (1.15.3)\n"
          ]
        }
      ]
    },
    {
      "cell_type": "code",
      "source": [
        "# step 2: Import Libraries\n",
        "import pandas as pd\n",
        "import numpy as np\n",
        "from surprise import Dataset, Reader, SVD\n",
        "from surprise.model_selection import train_test_split\n",
        "from surprise.accuracy import rmse"
      ],
      "metadata": {
        "id": "njbC3YcxDF6O"
      },
      "execution_count": 6,
      "outputs": []
    },
    {
      "cell_type": "code",
      "source": [
        "# step 3: Load the Dataset\n",
        "# Load built-in dataset (MovieLens 100k)\n",
        "data = Dataset.load_builtin('ml-100k')\n",
        "\n",
        "# Split into train and test sets\n",
        "trainset, testset = train_test_split(data, test_size=0.2, random_state=42)\n"
      ],
      "metadata": {
        "id": "Qnuf1La9DZZb"
      },
      "execution_count": 7,
      "outputs": []
    },
    {
      "cell_type": "code",
      "source": [
        "# step 4: Train the SVD Model\n",
        "# Initialize SVD model\n",
        "model = SVD()\n",
        "\n",
        "# Train on the training set\n",
        "model.fit(trainset)\n"
      ],
      "metadata": {
        "colab": {
          "base_uri": "https://localhost:8080/"
        },
        "id": "mCh5DOaLDgqV",
        "outputId": "79795b7e-f177-4e43-c336-441166c1d5e7"
      },
      "execution_count": 8,
      "outputs": [
        {
          "output_type": "execute_result",
          "data": {
            "text/plain": [
              "<surprise.prediction_algorithms.matrix_factorization.SVD at 0x7cf8e696cdd0>"
            ]
          },
          "metadata": {},
          "execution_count": 8
        }
      ]
    },
    {
      "cell_type": "code",
      "source": [
        "# step 5: Evaluate the Model\n",
        "# Predict on test data\n",
        "predictions = model.test(testset)\n",
        "\n",
        "# Calculate RMSE (Root Mean Squared Error)\n",
        "rmse(predictions)\n"
      ],
      "metadata": {
        "colab": {
          "base_uri": "https://localhost:8080/"
        },
        "id": "CSDMiga8DuCE",
        "outputId": "8970acac-8249-451d-cb0a-3bdd8103227e"
      },
      "execution_count": 9,
      "outputs": [
        {
          "output_type": "stream",
          "name": "stdout",
          "text": [
            "RMSE: 0.9343\n"
          ]
        },
        {
          "output_type": "execute_result",
          "data": {
            "text/plain": [
              "0.9342794497100502"
            ]
          },
          "metadata": {},
          "execution_count": 9
        }
      ]
    },
    {
      "cell_type": "code",
      "source": [
        "# step 6: Generate Recommendations for a User\n",
        "# Get all unique movie IDs\n",
        "all_movie_ids = set([pred.iid for pred in predictions])\n",
        "\n",
        "# Recommend movies not already rated by the user\n",
        "def recommend_movies(user_id, model, n=5):\n",
        "    user_rated_movies = [pred.iid for pred in predictions if pred.uid == user_id]\n",
        "    unrated_movies = [movie for movie in all_movie_ids if movie not in user_rated_movies]\n",
        "\n",
        "    recommendations = []\n",
        "    for movie_id in unrated_movies:\n",
        "        pred = model.predict(user_id, movie_id)\n",
        "        recommendations.append((movie_id, pred.est))\n",
        "\n",
        "    # Sort by predicted rating\n",
        "    recommendations.sort(key=lambda x: x[1], reverse=True)\n",
        "    return recommendations[:n]\n",
        "\n",
        "# Example: Get top 5 recommendations for user '196'\n",
        "top_recs = recommend_movies('196', model)\n",
        "print(\"Top 5 recommendations for user 196:\")\n",
        "for movie_id, rating in top_recs:\n",
        "    print(f\"Movie ID: {movie_id}, Predicted Rating: {rating:.2f}\")\n"
      ],
      "metadata": {
        "colab": {
          "base_uri": "https://localhost:8080/"
        },
        "id": "qvnQlr9sD1gV",
        "outputId": "986d8e25-a7ee-439f-c042-5a9516fb2db6"
      },
      "execution_count": 10,
      "outputs": [
        {
          "output_type": "stream",
          "name": "stdout",
          "text": [
            "Top 5 recommendations for user 196:\n",
            "Movie ID: 64, Predicted Rating: 4.69\n",
            "Movie ID: 169, Predicted Rating: 4.66\n",
            "Movie ID: 408, Predicted Rating: 4.66\n",
            "Movie ID: 285, Predicted Rating: 4.63\n",
            "Movie ID: 427, Predicted Rating: 4.58\n"
          ]
        }
      ]
    }
  ]
}